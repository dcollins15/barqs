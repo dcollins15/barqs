{
 "cells": [
  {
   "cell_type": "code",
   "execution_count": 1,
   "id": "c653ee06-8c80-43ad-9e25-be8e16c9ecea",
   "metadata": {},
   "outputs": [],
   "source": [
    "import getpass\n",
    "\n",
    "import fsspec\n",
    "import pandas as pd"
   ]
  },
  {
   "cell_type": "code",
   "execution_count": 2,
   "id": "2b7a8530-e859-4084-8f0f-fd7b7f5beb6c",
   "metadata": {},
   "outputs": [],
   "source": [
    "import barqs\n",
    "import fasta\n",
    "import fastq"
   ]
  },
  {
   "cell_type": "code",
   "execution_count": 3,
   "id": "84681205-6d99-4911-a41c-dfcc41bb0a57",
   "metadata": {},
   "outputs": [],
   "source": [
    "# _password = getpass.getpass(prompt=\"Enter password for ssh host: \")\n",
    "# fs = fsspec.filesystem(\"ssh\", host=\"gesu.nygenome.org\", username=\"collinsd\", password=_password)"
   ]
  },
  {
   "cell_type": "code",
   "execution_count": 4,
   "id": "4ca4bc0d-10e4-4e3d-b7a0-76788e889eea",
   "metadata": {},
   "outputs": [],
   "source": [
    "barcode_size = 16\n",
    "umi_size = 12"
   ]
  },
  {
   "cell_type": "code",
   "execution_count": 6,
   "id": "83f1298b-73c1-4e55-acab-f812802ebce3",
   "metadata": {},
   "outputs": [],
   "source": [
    "raw_features = [\n",
    "    \"TGGTATCAGTCTCGT\",\n",
    "    \"ACGTAGTGCACTAGA\",\n",
    "    \"ATTGCCTCAGGGTTT\",\n",
    "    \"AGAGCGACAGAATAC\",\n",
    "    \"TGAGAGAAGGGACTA\",\n",
    "    \"GCATCTCTCAAGCAA\",\n",
    "    \"CACCCAATAGTAAGG\",\n",
    "    \"TTAACCACTGTGTAC\",\n",
    "    \"TCGTTATAACATCTG\",\n",
    "    \"GCAGTTAAAGTCGGG\",\n",
    "    \"AGAATAGGAGCCGCA\",\n",
    "    \"ATACACAGTTTACCG\",\n",
    "    \"CATCTAGACCTAACT\",\n",
    "    \"GAGATACTGCCATAG\",\n",
    "]"
   ]
  },
  {
   "cell_type": "code",
   "execution_count": 7,
   "id": "3c8fbee8-dfd1-46de-9160-2ae81c3c8cc4",
   "metadata": {},
   "outputs": [],
   "source": [
    "features = [\n",
    "    (seq, seq) for seq in raw_features\n",
    "]"
   ]
  },
  {
   "cell_type": "code",
   "execution_count": 8,
   "id": "85b31f49-e135-4c84-a677-44be181dcc83",
   "metadata": {},
   "outputs": [],
   "source": [
    "feature_map = {seq: name for name, seq in features}"
   ]
  },
  {
   "cell_type": "code",
   "execution_count": 9,
   "id": "1cf69916-a227-479f-842b-a8c8a965b506",
   "metadata": {},
   "outputs": [],
   "source": [
    "# read1_file = fs.open(\"/brahms/kowalskim/data/hsc/multiome_072924/fastq/Multiome-HTO_S5_L001_R1_001.fastq.gz\")\n",
    "read1_file = \"/Users/dcollins/workspace/data/jyun/HTO_R1.fastq.gz\"\n",
    "read1 = fastq.load(read1_file)"
   ]
  },
  {
   "cell_type": "code",
   "execution_count": 10,
   "id": "b9d2f7ba-4994-4c88-9c61-450de3fe9948",
   "metadata": {},
   "outputs": [],
   "source": [
    "# read2_file = fs.open(\"/brahms/kowalskim/data/hsc/multiome_072924/fastq/Multiome-HTO_S5_L001_R2_001.fastq.gz\")\n",
    "read2_file = \"/Users/dcollins/workspace/data/jyun/HTO_R2.fastq.gz\"\n",
    "read2 = fastq.load(read2_file)"
   ]
  },
  {
   "cell_type": "code",
   "execution_count": 11,
   "id": "bd498935-16e0-4a7a-b728-c9bfae060244",
   "metadata": {},
   "outputs": [],
   "source": [
    "identifiers = list(\n",
    "    barqs.extract(read, umi_size=umi_size, barcode_size=barcode_size)\n",
    "    for read in read1\n",
    ")"
   ]
  },
  {
   "cell_type": "code",
   "execution_count": 12,
   "id": "eae08779-10ca-44e2-9995-8dfd53d1f0b4",
   "metadata": {},
   "outputs": [],
   "source": [
    "reads = list(\n",
    "    barqs.tag(read, barcode, umi, trim = False)\n",
    "    for read, (barcode, umi) in zip(read2, identifiers)\n",
    ")"
   ]
  },
  {
   "cell_type": "code",
   "execution_count": 13,
   "id": "29e74feb-57d9-47ab-95a3-461d6bc19ed7",
   "metadata": {},
   "outputs": [],
   "source": [
    "trimmed_reads = list(\n",
    "    barqs.trim_by_index(\n",
    "        read, \n",
    "        feature_lookup=feature_map,\n",
    "        region=(0, 15)\n",
    "    ) \n",
    "    for read in reads\n",
    ")"
   ]
  },
  {
   "cell_type": "code",
   "execution_count": 14,
   "id": "57503263-0b62-454a-a472-1aeaa59f33a8",
   "metadata": {},
   "outputs": [],
   "source": [
    "observed_features = list(barqs.filter_duplicates(trimmed_reads))"
   ]
  },
  {
   "cell_type": "code",
   "execution_count": 15,
   "id": "193cbdec-771c-4a4e-8e0f-de4761558f3d",
   "metadata": {},
   "outputs": [],
   "source": [
    "counts = barqs.quantify(observed_features, features)"
   ]
  },
  {
   "cell_type": "code",
   "execution_count": 23,
   "id": "a9019146-efb7-417d-87c1-bf55e654a665",
   "metadata": {
    "scrolled": true
   },
   "outputs": [],
   "source": [
    "counts_df = pd.DataFrame(counts).fillna(0).T"
   ]
  },
  {
   "cell_type": "code",
   "execution_count": 26,
   "id": "7cba6c25-e920-4bd2-99ed-4e9443b3efe6",
   "metadata": {},
   "outputs": [],
   "source": [
    "counts_df.to_csv(\"/Users/dcollins/workspace/data/jyun/HTO_counts.csv\")"
   ]
  },
  {
   "cell_type": "code",
   "execution_count": null,
   "id": "5d5119c4-475f-4a94-93c6-089371e22b4b",
   "metadata": {},
   "outputs": [],
   "source": []
  }
 ],
 "metadata": {
  "kernelspec": {
   "display_name": "Python 3 (ipykernel)",
   "language": "python",
   "name": "python3"
  },
  "language_info": {
   "codemirror_mode": {
    "name": "ipython",
    "version": 3
   },
   "file_extension": ".py",
   "mimetype": "text/x-python",
   "name": "python",
   "nbconvert_exporter": "python",
   "pygments_lexer": "ipython3",
   "version": "3.12.1"
  }
 },
 "nbformat": 4,
 "nbformat_minor": 5
}
